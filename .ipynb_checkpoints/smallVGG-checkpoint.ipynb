{
 "cells": [
  {
   "cell_type": "code",
   "execution_count": 1,
   "id": "excess-priority",
   "metadata": {},
   "outputs": [],
   "source": [
    "IMG_SIZE = 28\n",
    "DATADIR = \"dataset\""
   ]
  },
  {
   "cell_type": "code",
   "execution_count": 2,
   "id": "popular-knife",
   "metadata": {},
   "outputs": [
    {
     "name": "stdout",
     "output_type": "stream",
     "text": [
      "['0', '1', '2', '3', '4', '5', '6', '7', '8', '9']\n"
     ]
    }
   ],
   "source": [
    "import os\n",
    "CATEGORIES = [ f.path for f in os.scandir(DATADIR) if f.is_dir() ]\n",
    "for i in range(len(CATEGORIES)):\n",
    "    CATEGORIES[i] = CATEGORIES[i].replace(DATADIR+'\\\\', '')\n",
    "    \n",
    "print(CATEGORIES)"
   ]
  },
  {
   "cell_type": "code",
   "execution_count": 4,
   "id": "green-tutorial",
   "metadata": {},
   "outputs": [
    {
     "ename": "ImportError",
     "evalue": "cannot import name 'BatchNormalization' from 'keras.layers.normalization' (c:\\python37\\lib\\site-packages\\keras\\layers\\normalization\\__init__.py)",
     "output_type": "error",
     "traceback": [
      "\u001b[1;31m---------------------------------------------------------------------------\u001b[0m",
      "\u001b[1;31mImportError\u001b[0m                               Traceback (most recent call last)",
      "\u001b[1;32m<ipython-input-4-60a7ce3a255b>\u001b[0m in \u001b[0;36m<module>\u001b[1;34m\u001b[0m\n\u001b[0;32m      1\u001b[0m \u001b[1;31m# import the necessary packages\u001b[0m\u001b[1;33m\u001b[0m\u001b[1;33m\u001b[0m\u001b[0m\n\u001b[0;32m      2\u001b[0m \u001b[1;32mfrom\u001b[0m \u001b[0mkeras\u001b[0m\u001b[1;33m.\u001b[0m\u001b[0mmodels\u001b[0m \u001b[1;32mimport\u001b[0m \u001b[0mSequential\u001b[0m\u001b[1;33m\u001b[0m\u001b[0m\n\u001b[1;32m----> 3\u001b[1;33m \u001b[1;32mfrom\u001b[0m \u001b[0mkeras\u001b[0m\u001b[1;33m.\u001b[0m\u001b[0mlayers\u001b[0m\u001b[1;33m.\u001b[0m\u001b[0mnormalization\u001b[0m \u001b[1;32mimport\u001b[0m \u001b[0mBatchNormalization\u001b[0m\u001b[1;33m\u001b[0m\u001b[0m\n\u001b[0m\u001b[0;32m      4\u001b[0m \u001b[1;32mfrom\u001b[0m \u001b[0mkeras\u001b[0m\u001b[1;33m.\u001b[0m\u001b[0mlayers\u001b[0m\u001b[1;33m.\u001b[0m\u001b[0mconvolutional\u001b[0m \u001b[1;32mimport\u001b[0m \u001b[0mConv2D\u001b[0m\u001b[1;33m\u001b[0m\u001b[0m\n\u001b[0;32m      5\u001b[0m \u001b[1;32mfrom\u001b[0m \u001b[0mkeras\u001b[0m\u001b[1;33m.\u001b[0m\u001b[0mlayers\u001b[0m\u001b[1;33m.\u001b[0m\u001b[0mconvolutional\u001b[0m \u001b[1;32mimport\u001b[0m \u001b[0mMaxPooling2D\u001b[0m\u001b[1;33m\u001b[0m\u001b[0m\n",
      "\u001b[1;31mImportError\u001b[0m: cannot import name 'BatchNormalization' from 'keras.layers.normalization' (c:\\python37\\lib\\site-packages\\keras\\layers\\normalization\\__init__.py)"
     ]
    }
   ],
   "source": [
    "# import the necessary packages\n",
    "from keras.models import Sequential\n",
    "from keras.layers.normalization import BatchNormalization\n",
    "from keras.layers.convolutional import Conv2D\n",
    "from keras.layers.convolutional import MaxPooling2D\n",
    "from keras.layers.core import Activation\n",
    "from keras.layers.core import Flatten\n",
    "from keras.layers.core import Dropout\n",
    "from keras.layers.core import Dense\n",
    "from keras import backend as K"
   ]
  },
  {
   "cell_type": "code",
   "execution_count": 68,
   "id": "rational-campaign",
   "metadata": {},
   "outputs": [],
   "source": [
    "class SmallVGGNet:\n",
    "\t@staticmethod\n",
    "\tdef build(width, height, depth, classes):\n",
    "\t\t# initialize the model along with the input shape to be\n",
    "\t\t# \"channels last\" and the channels dimension itself\n",
    "\t\tmodel = Sequential()\n",
    "\t\tinputShape = (height, width, depth)\n",
    "\t\tchanDim = -1\n",
    "\n",
    "\t\t# if we are using \"channels first\", update the input shape\n",
    "\t\t# and channels dimension\n",
    "\t\tif K.image_data_format() == \"channels_first\":\n",
    "\t\t\tinputShape = (depth, height, width)\n",
    "\t\t\tchanDim = 1\n",
    "\n",
    "\t\t# CONV => RELU => POOL layer set\n",
    "\t\tmodel.add(Conv2D(32, (3, 3), padding=\"same\", input_shape=inputShape))\n",
    "\t\tmodel.add(Activation(\"relu\"))\n",
    "\t\tmodel.add(BatchNormalization(axis=chanDim))\n",
    "\t\tmodel.add(MaxPooling2D(pool_size=(2, 2)))\n",
    "\t\tmodel.add(Dropout(0.25))\n",
    "\n",
    "\t\t# (CONV => RELU) * 2 => POOL layer set\n",
    "\t\tmodel.add(Conv2D(64, (3, 3), padding=\"same\"))\n",
    "\t\tmodel.add(Activation(\"relu\"))\n",
    "\t\tmodel.add(BatchNormalization(axis=chanDim))\n",
    "\t\tmodel.add(Conv2D(64, (3, 3), padding=\"same\"))\n",
    "\t\tmodel.add(Activation(\"relu\"))\n",
    "\t\tmodel.add(BatchNormalization(axis=chanDim))\n",
    "\t\tmodel.add(MaxPooling2D(pool_size=(2, 2)))\n",
    "\t\tmodel.add(Dropout(0.25))\n",
    "\n",
    "\t\t# (CONV => RELU) * 3 => POOL layer set\n",
    "\t\tmodel.add(Conv2D(128, (3, 3), padding=\"same\"))\n",
    "\t\tmodel.add(Activation(\"relu\"))\n",
    "\t\tmodel.add(BatchNormalization(axis=chanDim))\n",
    "\t\tmodel.add(Conv2D(128, (3, 3), padding=\"same\"))\n",
    "\t\tmodel.add(Activation(\"relu\"))\n",
    "\t\tmodel.add(BatchNormalization(axis=chanDim))\n",
    "\t\tmodel.add(Conv2D(128, (3, 3), padding=\"same\"))\n",
    "\t\tmodel.add(Activation(\"relu\"))\n",
    "\t\tmodel.add(BatchNormalization(axis=chanDim))\n",
    "\t\tmodel.add(MaxPooling2D(pool_size=(2, 2)))\n",
    "\t\tmodel.add(Dropout(0.25))\n",
    "\n",
    "\t\t# first (and only) set of FC => RELU layers\n",
    "\t\tmodel.add(Flatten())\n",
    "\t\tmodel.add(Dense(512))\n",
    "\t\tmodel.add(Activation(\"relu\"))\n",
    "\t\tmodel.add(BatchNormalization())\n",
    "\t\tmodel.add(Dropout(0.5))\n",
    "\n",
    "\t\t# softmax classifier\n",
    "\t\tmodel.add(Dense(classes))\n",
    "\t\tmodel.add(Activation(\"softmax\"))\n",
    "\n",
    "\t\t# return the constructed network architecture\n",
    "\t\treturn model"
   ]
  },
  {
   "cell_type": "code",
   "execution_count": 69,
   "id": "protected-intensity",
   "metadata": {},
   "outputs": [],
   "source": [
    "from sklearn.preprocessing import LabelBinarizer\n",
    "from sklearn.model_selection import train_test_split\n",
    "from sklearn.metrics import classification_report\n",
    "from keras.preprocessing.image import ImageDataGenerator\n",
    "from keras.optimizers import SGD\n",
    "from imutils import paths\n",
    "import matplotlib.pyplot as plt\n",
    "import numpy as np\n",
    "import argparse\n",
    "import random\n",
    "import pickle\n",
    "import cv2\n",
    "import os"
   ]
  },
  {
   "cell_type": "code",
   "execution_count": 70,
   "id": "abstract-festival",
   "metadata": {},
   "outputs": [
    {
     "name": "stdout",
     "output_type": "stream",
     "text": [
      "[INFO] loading images...\n"
     ]
    }
   ],
   "source": [
    "# initialize the data and labels\n",
    "print(\"[INFO] loading images...\")\n",
    "data = []\n",
    "labels = []"
   ]
  },
  {
   "cell_type": "code",
   "execution_count": 71,
   "id": "revised-killing",
   "metadata": {},
   "outputs": [
    {
     "data": {
      "image/png": "[encoded data removed]",
      "text/plain": [
       "<Figure size 432x288 with 1 Axes>"
      ]
     },
     "metadata": {},
     "output_type": "display_data"
    }
   ],
   "source": [
    "for category in CATEGORIES:  # do dogs and cats\n",
    "    path = os.path.join(DATADIR, category)\n",
    "    for img in os.listdir(path):  # iterate over each image per dogs and cats\n",
    "        img_array = cv2.imread(os.path.join(path, img))  # convert to array\n",
    "        plt.imshow(img_array, cmap='gray')  # graph it\n",
    "        plt.show()  # display!\n",
    "        break  # we just want one for now so break\n",
    "    break  #...and one more!"
   ]
  },
  {
   "cell_type": "code",
   "execution_count": 72,
   "id": "intermediate-radius",
   "metadata": {},
   "outputs": [
    {
     "data": {
      "image/png": "[encoded data removed]",
      "text/plain": [
       "<Figure size 432x288 with 1 Axes>"
      ]
     },
     "metadata": {},
     "output_type": "display_data"
    }
   ],
   "source": [
    "new_array = cv2.resize(img_array, (IMG_SIZE, IMG_SIZE))\n",
    "plt.imshow(new_array, cmap='gray')\n",
    "plt.show()"
   ]
  },
  {
   "cell_type": "code",
   "execution_count": 73,
   "id": "smoking-thought",
   "metadata": {},
   "outputs": [],
   "source": [
    "from tqdm import tqdm\n",
    "training_data = []\n",
    "def create_training_data():\n",
    "    for category in CATEGORIES:  # do dogs and cats\n",
    "        path = os.path.join(DATADIR, category)  # create path to dogs and cats\n",
    "        class_num = CATEGORIES.index(category)  # get the classification  (0 or a 1). 0=dog 1=cat\n",
    "\n",
    "        for img in tqdm(os.listdir(path)):  # iterate over each image per dogs and cats\n",
    "            try:\n",
    "                img_array = cv2.imread(os.path.join(path, img))  # convert to array\n",
    "                new_array = cv2.resize(img_array, (IMG_SIZE, IMG_SIZE))  # resize to normalize data size\n",
    "                training_data.append([new_array, class_num])  # add this to our training_data\n",
    "            except Exception as e:  # in the interest in keeping the output clean...\n",
    "                pass\n",
    "            #except OSError as e:\n",
    "            #    print(\"OSErrroBad img most likely\", e, os.path.join(path,img))\n",
    "            #except Exception as e:\n",
    "            #    print(\"general exception\", e, os.path.join(path,img))"
   ]
  },
  {
   "cell_type": "code",
   "execution_count": 74,
   "id": "oriented-march",
   "metadata": {},
   "outputs": [
    {
     "name": "stderr",
     "output_type": "stream",
     "text": [
      "100%|█████████████████████████████████████████| 21/21 [00:00<00:00, 583.30it/s]\n",
      "100%|█████████████████████████████████████████| 22/22 [00:00<00:00, 628.54it/s]\n",
      "100%|█████████████████████████████████████████| 21/21 [00:00<00:00, 583.30it/s]\n",
      "100%|█████████████████████████████████████████| 21/21 [00:00<00:00, 512.17it/s]\n",
      "100%|█████████████████████████████████████████| 21/21 [00:00<00:00, 381.80it/s]\n",
      "100%|█████████████████████████████████████████| 21/21 [00:00<00:00, 677.38it/s]\n",
      "100%|█████████████████████████████████████████| 21/21 [00:00<00:00, 499.97it/s]\n",
      "100%|█████████████████████████████████████████| 21/21 [00:00<00:00, 538.43it/s]\n",
      "100%|█████████████████████████████████████████| 21/21 [00:00<00:00, 466.64it/s]\n",
      "100%|█████████████████████████████████████████| 21/21 [00:00<00:00, 499.97it/s]\n"
     ]
    }
   ],
   "source": [
    "create_training_data()"
   ]
  },
  {
   "cell_type": "code",
   "execution_count": 75,
   "id": "dress-patent",
   "metadata": {},
   "outputs": [
    {
     "name": "stdout",
     "output_type": "stream",
     "text": [
      "(211, 28, 28, 3)\n",
      "(211,)\n"
     ]
    }
   ],
   "source": [
    "import random\n",
    "random.shuffle(training_data)\n",
    "\n",
    "data = []\n",
    "labels = []\n",
    "\n",
    "for features, label in training_data:\n",
    "    data.append(features)\n",
    "    labels.append(label)\n",
    "\n",
    "data = np.array(data, dtype=\"float\") / 255.0\n",
    "labels = np.array(labels)\n",
    "\n",
    "print(data.shape)\n",
    "print(labels.shape)"
   ]
  },
  {
   "cell_type": "code",
   "execution_count": 76,
   "id": "married-correlation",
   "metadata": {},
   "outputs": [],
   "source": [
    "(trainX, testX, trainY, testY) = train_test_split(data,\n",
    "\tlabels, test_size=0.25, random_state=42)"
   ]
  },
  {
   "cell_type": "code",
   "execution_count": 77,
   "id": "detected-slide",
   "metadata": {},
   "outputs": [],
   "source": [
    "lb = LabelBinarizer()\n",
    "trainY = lb.fit_transform(trainY)\n",
    "testY = lb.transform(testY)"
   ]
  },
  {
   "cell_type": "code",
   "execution_count": 78,
   "id": "pacific-priest",
   "metadata": {},
   "outputs": [],
   "source": [
    "aug = ImageDataGenerator(rotation_range=30, width_shift_range=0.1,\n",
    "\theight_shift_range=0.1, shear_range=0.2, zoom_range=0.2,\n",
    "\thorizontal_flip=True, fill_mode=\"nearest\")"
   ]
  },
  {
   "cell_type": "code",
   "execution_count": 79,
   "id": "precious-toronto",
   "metadata": {},
   "outputs": [],
   "source": [
    "model = SmallVGGNet.build(width=IMG_SIZE, height=IMG_SIZE, depth=3,\n",
    "\tclasses=len(lb.classes_))"
   ]
  },
  {
   "cell_type": "code",
   "execution_count": 80,
   "id": "committed-practitioner",
   "metadata": {},
   "outputs": [
    {
     "name": "stdout",
     "output_type": "stream",
     "text": [
      "(158, 28, 28, 3)\n",
      "(53, 28, 28, 3)\n"
     ]
    }
   ],
   "source": [
    "print(trainX.shape)\n",
    "print(testX.shape)"
   ]
  },
  {
   "cell_type": "code",
   "execution_count": 83,
   "id": "bottom-bidding",
   "metadata": {
    "scrolled": false
   },
   "outputs": [
    {
     "name": "stdout",
     "output_type": "stream",
     "text": [
      "[INFO] training network...\n",
      "Epoch 1/70\n",
      "4/4 [==============================] - 5s 624ms/step - loss: 2.2415 - accuracy: 0.3305 - val_loss: 4.0666 - val_accuracy: 0.1321\n",
      "Epoch 2/70\n",
      "4/4 [==============================] - 2s 505ms/step - loss: 2.2841 - accuracy: 0.3386 - val_loss: 3.6878 - val_accuracy: 0.1321\n",
      "Epoch 3/70\n",
      "4/4 [==============================] - 2s 415ms/step - loss: 1.8641 - accuracy: 0.4715 - val_loss: 4.4752 - val_accuracy: 0.1321\n",
      "Epoch 4/70\n",
      "4/4 [==============================] - 1s 355ms/step - loss: 1.9301 - accuracy: 0.3552 - val_loss: 3.8466 - val_accuracy: 0.1321\n",
      "Epoch 5/70\n",
      "4/4 [==============================] - 1s 319ms/step - loss: 1.7871 - accuracy: 0.4243 - val_loss: 3.7213 - val_accuracy: 0.1509\n",
      "Epoch 6/70\n",
      "4/4 [==============================] - 1s 306ms/step - loss: 2.1134 - accuracy: 0.3822 - val_loss: 3.8268 - val_accuracy: 0.1321\n",
      "Epoch 7/70\n",
      "4/4 [==============================] - 1s 309ms/step - loss: 1.9212 - accuracy: 0.3452 - val_loss: 1.9367 - val_accuracy: 0.3396\n",
      "Epoch 8/70\n",
      "4/4 [==============================] - 1s 307ms/step - loss: 2.0839 - accuracy: 0.3825 - val_loss: 2.6862 - val_accuracy: 0.1509\n",
      "Epoch 9/70\n",
      "4/4 [==============================] - 1s 313ms/step - loss: 1.8114 - accuracy: 0.4749 - val_loss: 1.9914 - val_accuracy: 0.2830\n",
      "Epoch 10/70\n",
      "4/4 [==============================] - 1s 312ms/step - loss: 1.4162 - accuracy: 0.5354 - val_loss: 2.0970 - val_accuracy: 0.3585\n",
      "Epoch 11/70\n",
      "4/4 [==============================] - 1s 308ms/step - loss: 1.5446 - accuracy: 0.4990 - val_loss: 2.9067 - val_accuracy: 0.2264\n",
      "Epoch 12/70\n",
      "4/4 [==============================] - 1s 325ms/step - loss: 1.4526 - accuracy: 0.4990 - val_loss: 2.4519 - val_accuracy: 0.2642\n",
      "Epoch 13/70\n",
      "4/4 [==============================] - 1s 381ms/step - loss: 1.7079 - accuracy: 0.5260 - val_loss: 2.6219 - val_accuracy: 0.3019\n",
      "Epoch 14/70\n",
      "4/4 [==============================] - 1s 333ms/step - loss: 1.5148 - accuracy: 0.5427 - val_loss: 3.0070 - val_accuracy: 0.3019\n",
      "Epoch 15/70\n",
      "4/4 [==============================] - 1s 322ms/step - loss: 1.4114 - accuracy: 0.5720 - val_loss: 2.5038 - val_accuracy: 0.3396\n",
      "Epoch 16/70\n",
      "4/4 [==============================] - 1s 311ms/step - loss: 1.4615 - accuracy: 0.6336 - val_loss: 2.8995 - val_accuracy: 0.2830\n",
      "Epoch 17/70\n",
      "4/4 [==============================] - 1s 311ms/step - loss: 1.4153 - accuracy: 0.5961 - val_loss: 3.3759 - val_accuracy: 0.2453\n",
      "Epoch 18/70\n",
      "4/4 [==============================] - 1s 341ms/step - loss: 1.2472 - accuracy: 0.5760 - val_loss: 3.4119 - val_accuracy: 0.2453\n",
      "Epoch 19/70\n",
      "4/4 [==============================] - 1s 341ms/step - loss: 1.0412 - accuracy: 0.6399 - val_loss: 2.7947 - val_accuracy: 0.3208\n",
      "Epoch 20/70\n",
      "4/4 [==============================] - 1s 307ms/step - loss: 1.0875 - accuracy: 0.6639 - val_loss: 2.1822 - val_accuracy: 0.3396\n",
      "Epoch 21/70\n",
      "4/4 [==============================] - 1s 315ms/step - loss: 1.2317 - accuracy: 0.6069 - val_loss: 1.5349 - val_accuracy: 0.4340\n",
      "Epoch 22/70\n",
      "4/4 [==============================] - 1s 306ms/step - loss: 1.3447 - accuracy: 0.5870 - val_loss: 1.7305 - val_accuracy: 0.4340\n",
      "Epoch 23/70\n",
      "4/4 [==============================] - 1s 309ms/step - loss: 0.9189 - accuracy: 0.6677 - val_loss: 2.2400 - val_accuracy: 0.3774\n",
      "Epoch 24/70\n",
      "4/4 [==============================] - 1s 312ms/step - loss: 0.7808 - accuracy: 0.7161 - val_loss: 2.9421 - val_accuracy: 0.3019\n",
      "Epoch 25/70\n",
      "4/4 [==============================] - 1s 311ms/step - loss: 1.0781 - accuracy: 0.6599 - val_loss: 2.1927 - val_accuracy: 0.3396\n",
      "Epoch 26/70\n",
      "4/4 [==============================] - 1s 365ms/step - loss: 0.9639 - accuracy: 0.7479 - val_loss: 1.8008 - val_accuracy: 0.3774\n",
      "Epoch 27/70\n",
      "4/4 [==============================] - 1s 311ms/step - loss: 0.9074 - accuracy: 0.6218 - val_loss: 1.3428 - val_accuracy: 0.5660\n",
      "Epoch 28/70\n",
      "4/4 [==============================] - 1s 311ms/step - loss: 0.8159 - accuracy: 0.6865 - val_loss: 1.3505 - val_accuracy: 0.4340\n",
      "Epoch 29/70\n",
      "4/4 [==============================] - 1s 311ms/step - loss: 0.8785 - accuracy: 0.6845 - val_loss: 1.2021 - val_accuracy: 0.4906\n",
      "Epoch 30/70\n",
      "4/4 [==============================] - 1s 312ms/step - loss: 0.9783 - accuracy: 0.7062 - val_loss: 0.9459 - val_accuracy: 0.5472\n",
      "Epoch 31/70\n",
      "4/4 [==============================] - 1s 314ms/step - loss: 0.6925 - accuracy: 0.7354 - val_loss: 1.0675 - val_accuracy: 0.5849\n",
      "Epoch 32/70\n",
      "4/4 [==============================] - 1s 310ms/step - loss: 0.8031 - accuracy: 0.7095 - val_loss: 1.4152 - val_accuracy: 0.4906\n",
      "Epoch 33/70\n",
      "4/4 [==============================] - 1s 337ms/step - loss: 0.7342 - accuracy: 0.7521 - val_loss: 2.5467 - val_accuracy: 0.3585\n",
      "Epoch 34/70\n",
      "4/4 [==============================] - 1s 313ms/step - loss: 0.8721 - accuracy: 0.6418 - val_loss: 1.2696 - val_accuracy: 0.4906\n",
      "Epoch 35/70\n",
      "4/4 [==============================] - 2s 359ms/step - loss: 0.9158 - accuracy: 0.6781 - val_loss: 1.9591 - val_accuracy: 0.4151\n",
      "Epoch 36/70\n",
      "4/4 [==============================] - 1s 316ms/step - loss: 0.7887 - accuracy: 0.7161 - val_loss: 1.5183 - val_accuracy: 0.4528\n",
      "Epoch 37/70\n",
      "4/4 [==============================] - 1s 303ms/step - loss: 0.6350 - accuracy: 0.8081 - val_loss: 2.5086 - val_accuracy: 0.3774\n",
      "Epoch 38/70\n",
      "4/4 [==============================] - 1s 303ms/step - loss: 0.8205 - accuracy: 0.7208 - val_loss: 2.1924 - val_accuracy: 0.4151\n",
      "Epoch 39/70\n",
      "4/4 [==============================] - 1s 306ms/step - loss: 0.7649 - accuracy: 0.7525 - val_loss: 2.6175 - val_accuracy: 0.4151\n",
      "Epoch 40/70\n",
      "4/4 [==============================] - 1s 309ms/step - loss: 0.6127 - accuracy: 0.7781 - val_loss: 1.7138 - val_accuracy: 0.4528\n",
      "Epoch 41/70\n",
      "4/4 [==============================] - 1s 310ms/step - loss: 0.5557 - accuracy: 0.7905 - val_loss: 1.1956 - val_accuracy: 0.4717\n",
      "Epoch 42/70\n",
      "4/4 [==============================] - 1s 326ms/step - loss: 0.6106 - accuracy: 0.8008 - val_loss: 0.5000 - val_accuracy: 0.7547\n",
      "Epoch 43/70\n",
      "4/4 [==============================] - 1s 308ms/step - loss: 0.6004 - accuracy: 0.7641 - val_loss: 0.5825 - val_accuracy: 0.6981\n",
      "Epoch 44/70\n",
      "4/4 [==============================] - 1s 339ms/step - loss: 0.5211 - accuracy: 0.8696 - val_loss: 1.3614 - val_accuracy: 0.4717\n",
      "Epoch 45/70\n",
      "4/4 [==============================] - 1s 341ms/step - loss: 0.8130 - accuracy: 0.7229 - val_loss: 0.7597 - val_accuracy: 0.6792\n",
      "Epoch 46/70\n",
      "4/4 [==============================] - 1s 308ms/step - loss: 0.4806 - accuracy: 0.8068 - val_loss: 0.7521 - val_accuracy: 0.6981\n",
      "Epoch 47/70\n",
      "4/4 [==============================] - 1s 309ms/step - loss: 0.6340 - accuracy: 0.8305 - val_loss: 0.6029 - val_accuracy: 0.7358\n",
      "Epoch 48/70\n",
      "4/4 [==============================] - 1s 305ms/step - loss: 0.6125 - accuracy: 0.7853 - val_loss: 0.5119 - val_accuracy: 0.7358\n",
      "Epoch 49/70\n",
      "4/4 [==============================] - 1s 305ms/step - loss: 0.5900 - accuracy: 0.7934 - val_loss: 0.2357 - val_accuracy: 0.8868\n",
      "Epoch 50/70\n",
      "4/4 [==============================] - 1s 306ms/step - loss: 0.6939 - accuracy: 0.7589 - val_loss: 0.1951 - val_accuracy: 0.9434\n",
      "Epoch 51/70\n",
      "4/4 [==============================] - 1s 311ms/step - loss: 0.5515 - accuracy: 0.8071 - val_loss: 0.3068 - val_accuracy: 0.8302\n",
      "Epoch 52/70\n",
      "4/4 [==============================] - 1s 308ms/step - loss: 0.4767 - accuracy: 0.8028 - val_loss: 0.5626 - val_accuracy: 0.7736\n",
      "Epoch 53/70\n",
      "4/4 [==============================] - 1s 305ms/step - loss: 0.6357 - accuracy: 0.7977 - val_loss: 0.9750 - val_accuracy: 0.6226\n",
      "Epoch 54/70\n",
      "4/4 [==============================] - 1s 306ms/step - loss: 0.5009 - accuracy: 0.8326 - val_loss: 1.0119 - val_accuracy: 0.6038\n",
      "Epoch 55/70\n",
      "4/4 [==============================] - 1s 305ms/step - loss: 0.6213 - accuracy: 0.7820 - val_loss: 0.4528 - val_accuracy: 0.7736\n",
      "Epoch 56/70\n",
      "4/4 [==============================] - 1s 314ms/step - loss: 0.5918 - accuracy: 0.7863 - val_loss: 0.9132 - val_accuracy: 0.6981\n",
      "Epoch 57/70\n",
      "4/4 [==============================] - 1s 310ms/step - loss: 0.4828 - accuracy: 0.8045 - val_loss: 0.7073 - val_accuracy: 0.7547\n",
      "Epoch 58/70\n",
      "4/4 [==============================] - 1s 308ms/step - loss: 0.5623 - accuracy: 0.7893 - val_loss: 0.3886 - val_accuracy: 0.8491\n"
     ]
    },
    {
     "name": "stdout",
     "output_type": "stream",
     "text": [
      "Epoch 59/70\n",
      "4/4 [==============================] - 1s 306ms/step - loss: 0.5592 - accuracy: 0.7959 - val_loss: 0.2249 - val_accuracy: 0.9245\n",
      "Epoch 60/70\n",
      "4/4 [==============================] - 1s 302ms/step - loss: 0.4170 - accuracy: 0.8207 - val_loss: 0.1698 - val_accuracy: 0.8868\n",
      "Epoch 61/70\n",
      "4/4 [==============================] - 1s 306ms/step - loss: 0.5557 - accuracy: 0.7385 - val_loss: 0.1086 - val_accuracy: 0.9623\n",
      "Epoch 62/70\n",
      "4/4 [==============================] - 1s 305ms/step - loss: 0.3684 - accuracy: 0.8808 - val_loss: 0.0808 - val_accuracy: 1.0000\n",
      "Epoch 63/70\n",
      "4/4 [==============================] - 1s 302ms/step - loss: 0.4979 - accuracy: 0.8398 - val_loss: 0.0460 - val_accuracy: 1.0000\n",
      "Epoch 64/70\n",
      "4/4 [==============================] - 1s 308ms/step - loss: 0.4010 - accuracy: 0.8517 - val_loss: 0.2330 - val_accuracy: 0.8868\n",
      "Epoch 65/70\n",
      "4/4 [==============================] - 1s 307ms/step - loss: 0.3581 - accuracy: 0.8583 - val_loss: 0.1846 - val_accuracy: 0.9245\n",
      "Epoch 66/70\n",
      "4/4 [==============================] - 1s 303ms/step - loss: 0.3830 - accuracy: 0.8489 - val_loss: 0.0558 - val_accuracy: 1.0000\n",
      "Epoch 67/70\n",
      "4/4 [==============================] - 1s 307ms/step - loss: 0.7306 - accuracy: 0.7697 - val_loss: 0.0721 - val_accuracy: 0.9811\n",
      "Epoch 68/70\n",
      "4/4 [==============================] - 1s 306ms/step - loss: 0.5123 - accuracy: 0.7878 - val_loss: 0.0508 - val_accuracy: 1.0000\n",
      "Epoch 69/70\n",
      "4/4 [==============================] - 1s 310ms/step - loss: 0.4236 - accuracy: 0.8203 - val_loss: 0.0358 - val_accuracy: 1.0000\n",
      "Epoch 70/70\n",
      "4/4 [==============================] - 2s 382ms/step - loss: 0.3274 - accuracy: 0.8396 - val_loss: 0.0497 - val_accuracy: 0.9811\n"
     ]
    }
   ],
   "source": [
    "INIT_LR = 0.01\n",
    "EPOCHS = 70\n",
    "BS = 32\n",
    "# initialize the model and optimizer (you'll want to use\n",
    "# binary_crossentropy for 2-class classification)\n",
    "print(\"[INFO] training network...\")\n",
    "opt = SGD(lr=INIT_LR, decay=INIT_LR / EPOCHS)\n",
    "model.compile(loss=\"categorical_crossentropy\", optimizer=opt, metrics=[\"accuracy\"])\n",
    "# train the network\n",
    "H = model.fit(x=aug.flow(trainX, trainY, batch_size=BS), validation_data=(testX, testY), steps_per_epoch=len(trainX) // BS, epochs=EPOCHS)"
   ]
  },
  {
   "cell_type": "code",
   "execution_count": 84,
   "id": "interracial-alberta",
   "metadata": {},
   "outputs": [
    {
     "data": {
      "text/plain": [
       "<matplotlib.legend.Legend at 0x205a6550>"
      ]
     },
     "execution_count": 84,
     "metadata": {},
     "output_type": "execute_result"
    },
    {
     "data": {
      "image/png": "[encoded data removed]",
      "text/plain": [
       "<Figure size 432x288 with 1 Axes>"
      ]
     },
     "metadata": {},
     "output_type": "display_data"
    }
   ],
   "source": [
    "N = np.arange(0, EPOCHS)\n",
    "plt.style.use(\"ggplot\")\n",
    "plt.figure()\n",
    "plt.plot(N, H.history[\"loss\"], label=\"train_loss\")\n",
    "plt.plot(N, H.history[\"val_loss\"], label=\"val_loss\")\n",
    "plt.plot(N, H.history[\"accuracy\"], label=\"train_acc\")\n",
    "plt.plot(N, H.history[\"val_accuracy\"], label=\"val_acc\")\n",
    "plt.title(\"Training Loss and Accuracy (SmallVGGNet)\")\n",
    "plt.xlabel(\"Epoch #\")\n",
    "plt.ylabel(\"Loss/Accuracy\")\n",
    "plt.legend()"
   ]
  },
  {
   "cell_type": "code",
   "execution_count": 85,
   "id": "round-correspondence",
   "metadata": {},
   "outputs": [
    {
     "name": "stdout",
     "output_type": "stream",
     "text": [
      "4\n",
      "[[1.3135870e-07 5.0964445e-07 7.0245292e-08 2.2608513e-06 9.9993610e-01\n",
      "  5.6340188e-05 4.3791264e-08 6.4621452e-07 9.0654885e-07 2.9470527e-06]]\n"
     ]
    }
   ],
   "source": [
    "import cv2\n",
    "import numpy as np\n",
    "import tensorflow as tf\n",
    "\n",
    "def prepare(filepath):\n",
    "    img_array = cv2.imread(filepath)\n",
    "    img_array = cv2.resize(img_array, (IMG_SIZE, IMG_SIZE))\n",
    "    img_array = np.array(img_array, dtype=\"float\") / 255.0\n",
    "    img_array = img_array.reshape(-1, IMG_SIZE, IMG_SIZE, 3)\n",
    "    return img_array\n",
    "\n",
    "path=r'D:\\MSCS\\Research\\image processing\\pashto\\dataset\\4\\img.1.jpg'\n",
    "prediction = model.predict(prepare(path))\n",
    "\n",
    "maximum = 0\n",
    "index = 0\n",
    "for i in range(len(CATEGORIES)):\n",
    "    if (prediction[0][i]) > maximum:\n",
    "        index = i\n",
    "        maximum = prediction[0][i]\n",
    "print(CATEGORIES[index])\n",
    "\n",
    "print(prediction)"
   ]
  },
  {
   "cell_type": "code",
   "execution_count": 86,
   "id": "german-baker",
   "metadata": {},
   "outputs": [
    {
     "name": "stdout",
     "output_type": "stream",
     "text": [
      "INFO:tensorflow:Assets written to: D:\\MSCS\\Research\\image processing\\pashto\\p-mnist.model\\assets\n"
     ]
    }
   ],
   "source": [
    "model.save(\"D:\\MSCS\\Research\\image processing\\pashto\\p-mnist.model\")"
   ]
  },
  {
   "cell_type": "code",
   "execution_count": null,
   "id": "young-colombia",
   "metadata": {},
   "outputs": [],
   "source": []
  }
 ],
 "metadata": {
  "kernelspec": {
   "display_name": "Python 3",
   "language": "python",
   "name": "python3"
  },
  "language_info": {
   "codemirror_mode": {
    "name": "ipython",
    "version": 3
   },
   "file_extension": ".py",
   "mimetype": "text/x-python",
   "name": "python",
   "nbconvert_exporter": "python",
   "pygments_lexer": "ipython3",
   "version": "3.7.0"
  }
 },
 "nbformat": 4,
 "nbformat_minor": 5
}
