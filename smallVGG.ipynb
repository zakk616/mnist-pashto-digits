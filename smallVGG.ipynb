{
 "cells": [
  {
   "cell_type": "code",
   "execution_count": 1,
   "id": "excess-priority",
   "metadata": {},
   "outputs": [],
   "source": [
    "IMG_SIZE = 28\n",
    "DATADIR = \"dataset\""
   ]
  },
  {
   "cell_type": "code",
   "execution_count": 2,
   "id": "popular-knife",
   "metadata": {},
   "outputs": [
    {
     "name": "stdout",
     "output_type": "stream",
     "text": [
      "['0', '1', '2', '3', '4', '5', '6', '7', '8', '9']\n"
     ]
    }
   ],
   "source": [
    "import os\n",
    "CATEGORIES = [ f.path for f in os.scandir(DATADIR) if f.is_dir() ]\n",
    "for i in range(len(CATEGORIES)):\n",
    "    CATEGORIES[i] = CATEGORIES[i].replace(DATADIR+'\\\\', '')\n",
    "    \n",
    "print(CATEGORIES)"
   ]
  },
  {
   "cell_type": "code",
   "execution_count": 4,
   "id": "green-tutorial",
   "metadata": {},
   "outputs": [],
   "source": [
    "# import the necessary packages\n",
    "from keras.models import Sequential\n",
    "from tensorflow.keras.layers import BatchNormalization\n",
    "from keras.layers.convolutional import Conv2D\n",
    "from keras.layers.convolutional import MaxPooling2D\n",
    "from keras.layers.core import Activation\n",
    "from keras.layers.core import Flatten\n",
    "from keras.layers.core import Dropout\n",
    "from keras.layers.core import Dense\n",
    "from keras import backend as K"
   ]
  },
  {
   "cell_type": "code",
   "execution_count": 5,
   "id": "rational-campaign",
   "metadata": {},
   "outputs": [],
   "source": [
    "class SmallVGGNet:\n",
    "\t@staticmethod\n",
    "\tdef build(width, height, depth, classes):\n",
    "\t\t# initialize the model along with the input shape to be\n",
    "\t\t# \"channels last\" and the channels dimension itself\n",
    "\t\tmodel = Sequential()\n",
    "\t\tinputShape = (height, width, depth)\n",
    "\t\tchanDim = -1\n",
    "\n",
    "\t\t# if we are using \"channels first\", update the input shape\n",
    "\t\t# and channels dimension\n",
    "\t\tif K.image_data_format() == \"channels_first\":\n",
    "\t\t\tinputShape = (depth, height, width)\n",
    "\t\t\tchanDim = 1\n",
    "\n",
    "\t\t# CONV => RELU => POOL layer set\n",
    "\t\tmodel.add(Conv2D(32, (3, 3), padding=\"same\", input_shape=inputShape))\n",
    "\t\tmodel.add(Activation(\"relu\"))\n",
    "\t\tmodel.add(BatchNormalization(axis=chanDim))\n",
    "\t\tmodel.add(MaxPooling2D(pool_size=(2, 2)))\n",
    "\t\tmodel.add(Dropout(0.25))\n",
    "\n",
    "\t\t# (CONV => RELU) * 2 => POOL layer set\n",
    "\t\tmodel.add(Conv2D(64, (3, 3), padding=\"same\"))\n",
    "\t\tmodel.add(Activation(\"relu\"))\n",
    "\t\tmodel.add(BatchNormalization(axis=chanDim))\n",
    "\t\tmodel.add(Conv2D(64, (3, 3), padding=\"same\"))\n",
    "\t\tmodel.add(Activation(\"relu\"))\n",
    "\t\tmodel.add(BatchNormalization(axis=chanDim))\n",
    "\t\tmodel.add(MaxPooling2D(pool_size=(2, 2)))\n",
    "\t\tmodel.add(Dropout(0.25))\n",
    "\n",
    "\t\t# (CONV => RELU) * 3 => POOL layer set\n",
    "\t\tmodel.add(Conv2D(128, (3, 3), padding=\"same\"))\n",
    "\t\tmodel.add(Activation(\"relu\"))\n",
    "\t\tmodel.add(BatchNormalization(axis=chanDim))\n",
    "\t\tmodel.add(Conv2D(128, (3, 3), padding=\"same\"))\n",
    "\t\tmodel.add(Activation(\"relu\"))\n",
    "\t\tmodel.add(BatchNormalization(axis=chanDim))\n",
    "\t\tmodel.add(Conv2D(128, (3, 3), padding=\"same\"))\n",
    "\t\tmodel.add(Activation(\"relu\"))\n",
    "\t\tmodel.add(BatchNormalization(axis=chanDim))\n",
    "\t\tmodel.add(MaxPooling2D(pool_size=(2, 2)))\n",
    "\t\tmodel.add(Dropout(0.25))\n",
    "\n",
    "\t\t# first (and only) set of FC => RELU layers\n",
    "\t\tmodel.add(Flatten())\n",
    "\t\tmodel.add(Dense(512))\n",
    "\t\tmodel.add(Activation(\"relu\"))\n",
    "\t\tmodel.add(BatchNormalization())\n",
    "\t\tmodel.add(Dropout(0.5))\n",
    "\n",
    "\t\t# softmax classifier\n",
    "\t\tmodel.add(Dense(classes))\n",
    "\t\tmodel.add(Activation(\"softmax\"))\n",
    "\n",
    "\t\t# return the constructed network architecture\n",
    "\t\treturn model"
   ]
  },
  {
   "cell_type": "code",
   "execution_count": 7,
   "id": "protected-intensity",
   "metadata": {},
   "outputs": [],
   "source": [
    "from sklearn.preprocessing import LabelBinarizer\n",
    "from sklearn.model_selection import train_test_split\n",
    "from sklearn.metrics import classification_report\n",
    "from keras.preprocessing.image import ImageDataGenerator\n",
    "from tensorflow.keras.optimizers import SGD\n",
    "from imutils import paths\n",
    "import matplotlib.pyplot as plt\n",
    "import numpy as np\n",
    "import argparse\n",
    "import random\n",
    "import pickle\n",
    "import cv2\n",
    "import os"
   ]
  },
  {
   "cell_type": "code",
   "execution_count": 8,
   "id": "abstract-festival",
   "metadata": {},
   "outputs": [
    {
     "name": "stdout",
     "output_type": "stream",
     "text": [
      "[INFO] loading images...\n"
     ]
    }
   ],
   "source": [
    "# initialize the data and labels\n",
    "print(\"[INFO] loading images...\")\n",
    "data = []\n",
    "labels = []"
   ]
  },
  {
   "cell_type": "code",
   "execution_count": 9,
   "id": "revised-killing",
   "metadata": {},
   "outputs": [
    {
     "data": {
      "image/png": "[encoded data removed]",
      "text/plain": [
       "<Figure size 432x288 with 1 Axes>"
      ]
     },
     "metadata": {
      "needs_background": "light"
     },
     "output_type": "display_data"
    }
   ],
   "source": [
    "for category in CATEGORIES:  # do dogs and cats\n",
    "    path = os.path.join(DATADIR, category)\n",
    "    for img in os.listdir(path):  # iterate over each image per dogs and cats\n",
    "        img_array = cv2.imread(os.path.join(path, img))  # convert to array\n",
    "        plt.imshow(img_array, cmap='gray')  # graph it\n",
    "        plt.show()  # display!\n",
    "        break  # we just want one for now so break\n",
    "    break  #...and one more!"
   ]
  },
  {
   "cell_type": "code",
   "execution_count": 10,
   "id": "intermediate-radius",
   "metadata": {},
   "outputs": [
    {
     "data": {
      "image/png": "[encoded data removed]",
      "text/plain": [
       "<Figure size 432x288 with 1 Axes>"
      ]
     },
     "metadata": {
      "needs_background": "light"
     },
     "output_type": "display_data"
    }
   ],
   "source": [
    "new_array = cv2.resize(img_array, (IMG_SIZE, IMG_SIZE))\n",
    "plt.imshow(new_array, cmap='gray')\n",
    "plt.show()"
   ]
  },
  {
   "cell_type": "code",
   "execution_count": 11,
   "id": "smoking-thought",
   "metadata": {},
   "outputs": [],
   "source": [
    "from tqdm import tqdm\n",
    "training_data = []\n",
    "def create_training_data():\n",
    "    for category in CATEGORIES:  # do dogs and cats\n",
    "        path = os.path.join(DATADIR, category)  # create path to dogs and cats\n",
    "        class_num = CATEGORIES.index(category)  # get the classification  (0 or a 1). 0=dog 1=cat\n",
    "\n",
    "        for img in tqdm(os.listdir(path)):  # iterate over each image per dogs and cats\n",
    "            try:\n",
    "                img_array = cv2.imread(os.path.join(path, img))  # convert to array\n",
    "                new_array = cv2.resize(img_array, (IMG_SIZE, IMG_SIZE))  # resize to normalize data size\n",
    "                training_data.append([new_array, class_num])  # add this to our training_data\n",
    "            except Exception as e:  # in the interest in keeping the output clean...\n",
    "                pass\n",
    "            #except OSError as e:\n",
    "            #    print(\"OSErrroBad img most likely\", e, os.path.join(path,img))\n",
    "            #except Exception as e:\n",
    "            #    print(\"general exception\", e, os.path.join(path,img))"
   ]
  },
  {
   "cell_type": "code",
   "execution_count": 12,
   "id": "oriented-march",
   "metadata": {},
   "outputs": [
    {
     "name": "stderr",
     "output_type": "stream",
     "text": [
      "100%|█████████████████████████████████████████| 21/21 [00:00<00:00, 192.65it/s]\n",
      "100%|█████████████████████████████████████████| 22/22 [00:00<00:00, 247.18it/s]\n",
      "100%|█████████████████████████████████████████| 21/21 [00:00<00:00, 241.37it/s]\n",
      "100%|█████████████████████████████████████████| 21/21 [00:00<00:00, 238.62it/s]\n",
      "100%|█████████████████████████████████████████| 21/21 [00:00<00:00, 259.24it/s]\n",
      "100%|█████████████████████████████████████████| 21/21 [00:00<00:00, 247.05it/s]\n",
      "100%|█████████████████████████████████████████| 21/21 [00:00<00:00, 230.76it/s]\n",
      "100%|█████████████████████████████████████████| 21/21 [00:00<00:00, 241.37it/s]\n",
      "100%|█████████████████████████████████████████| 21/21 [00:00<00:00, 249.99it/s]\n",
      "100%|█████████████████████████████████████████| 21/21 [00:00<00:00, 247.04it/s]\n"
     ]
    }
   ],
   "source": [
    "create_training_data()"
   ]
  },
  {
   "cell_type": "code",
   "execution_count": 13,
   "id": "dress-patent",
   "metadata": {},
   "outputs": [
    {
     "name": "stdout",
     "output_type": "stream",
     "text": [
      "(211, 28, 28, 3)\n",
      "(211,)\n"
     ]
    }
   ],
   "source": [
    "import random\n",
    "random.shuffle(training_data)\n",
    "\n",
    "data = []\n",
    "labels = []\n",
    "\n",
    "for features, label in training_data:\n",
    "    data.append(features)\n",
    "    labels.append(label)\n",
    "\n",
    "data = np.array(data, dtype=\"float\") / 255.0\n",
    "labels = np.array(labels)\n",
    "\n",
    "print(data.shape)\n",
    "print(labels.shape)"
   ]
  },
  {
   "cell_type": "code",
   "execution_count": 14,
   "id": "married-correlation",
   "metadata": {},
   "outputs": [],
   "source": [
    "(trainX, testX, trainY, testY) = train_test_split(data,\n",
    "\tlabels, test_size=0.25, random_state=42)"
   ]
  },
  {
   "cell_type": "code",
   "execution_count": 15,
   "id": "detected-slide",
   "metadata": {},
   "outputs": [],
   "source": [
    "lb = LabelBinarizer()\n",
    "trainY = lb.fit_transform(trainY)\n",
    "testY = lb.transform(testY)"
   ]
  },
  {
   "cell_type": "code",
   "execution_count": 16,
   "id": "pacific-priest",
   "metadata": {},
   "outputs": [],
   "source": [
    "aug = ImageDataGenerator(rotation_range=30, width_shift_range=0.1,\n",
    "\theight_shift_range=0.1, shear_range=0.2, zoom_range=0.2,\n",
    "\thorizontal_flip=True, fill_mode=\"nearest\")"
   ]
  },
  {
   "cell_type": "code",
   "execution_count": 17,
   "id": "precious-toronto",
   "metadata": {},
   "outputs": [],
   "source": [
    "model = SmallVGGNet.build(width=IMG_SIZE, height=IMG_SIZE, depth=3,\n",
    "\tclasses=len(lb.classes_))"
   ]
  },
  {
   "cell_type": "code",
   "execution_count": 18,
   "id": "committed-practitioner",
   "metadata": {},
   "outputs": [
    {
     "name": "stdout",
     "output_type": "stream",
     "text": [
      "(158, 28, 28, 3)\n",
      "(53, 28, 28, 3)\n"
     ]
    }
   ],
   "source": [
    "print(trainX.shape)\n",
    "print(testX.shape)"
   ]
  },
  {
   "cell_type": "code",
   "execution_count": 19,
   "id": "bottom-bidding",
   "metadata": {
    "scrolled": false
   },
   "outputs": [
    {
     "name": "stdout",
     "output_type": "stream",
     "text": [
      "[INFO] training network...\n"
     ]
    },
    {
     "name": "stderr",
     "output_type": "stream",
     "text": [
      "c:\\python37\\lib\\site-packages\\keras\\optimizer_v2\\optimizer_v2.py:356: UserWarning: The `lr` argument is deprecated, use `learning_rate` instead.\n",
      "  \"The `lr` argument is deprecated, use `learning_rate` instead.\")\n"
     ]
    },
    {
     "name": "stdout",
     "output_type": "stream",
     "text": [
      "Epoch 1/70\n",
      "4/4 [==============================] - 3s 404ms/step - loss: 3.2662 - accuracy: 0.1429 - val_loss: 2.3160 - val_accuracy: 0.0755\n",
      "Epoch 2/70\n",
      "4/4 [==============================] - 1s 261ms/step - loss: 3.1942 - accuracy: 0.1984 - val_loss: 2.3137 - val_accuracy: 0.0755\n",
      "Epoch 3/70\n",
      "4/4 [==============================] - 1s 263ms/step - loss: 2.9257 - accuracy: 0.1746 - val_loss: 2.3268 - val_accuracy: 0.1132\n",
      "Epoch 4/70\n",
      "4/4 [==============================] - 1s 262ms/step - loss: 2.6285 - accuracy: 0.2222 - val_loss: 2.3550 - val_accuracy: 0.1132\n",
      "Epoch 5/70\n",
      "4/4 [==============================] - 1s 324ms/step - loss: 2.3247 - accuracy: 0.2500 - val_loss: 2.3787 - val_accuracy: 0.1132\n",
      "Epoch 6/70\n",
      "4/4 [==============================] - 1s 302ms/step - loss: 2.4515 - accuracy: 0.3016 - val_loss: 2.4109 - val_accuracy: 0.1132\n",
      "Epoch 7/70\n",
      "4/4 [==============================] - 1s 274ms/step - loss: 2.5045 - accuracy: 0.3016 - val_loss: 2.4556 - val_accuracy: 0.1132\n",
      "Epoch 8/70\n",
      "4/4 [==============================] - 1s 267ms/step - loss: 2.3027 - accuracy: 0.3203 - val_loss: 2.4844 - val_accuracy: 0.1132\n",
      "Epoch 9/70\n",
      "4/4 [==============================] - 1s 262ms/step - loss: 1.9909 - accuracy: 0.3730 - val_loss: 2.5327 - val_accuracy: 0.1132\n",
      "Epoch 10/70\n",
      "4/4 [==============================] - 1s 263ms/step - loss: 2.0784 - accuracy: 0.4048 - val_loss: 2.5927 - val_accuracy: 0.1509\n",
      "Epoch 11/70\n",
      "4/4 [==============================] - 1s 302ms/step - loss: 2.2839 - accuracy: 0.3413 - val_loss: 2.6358 - val_accuracy: 0.0755\n",
      "Epoch 12/70\n",
      "4/4 [==============================] - 1s 289ms/step - loss: 1.8664 - accuracy: 0.4206 - val_loss: 2.6789 - val_accuracy: 0.0755\n",
      "Epoch 13/70\n",
      "4/4 [==============================] - 1s 266ms/step - loss: 2.0643 - accuracy: 0.3889 - val_loss: 2.7610 - val_accuracy: 0.0755\n",
      "Epoch 14/70\n",
      "4/4 [==============================] - 1s 259ms/step - loss: 1.5313 - accuracy: 0.5079 - val_loss: 2.8714 - val_accuracy: 0.1509\n",
      "Epoch 15/70\n",
      "4/4 [==============================] - 1s 258ms/step - loss: 1.5383 - accuracy: 0.4841 - val_loss: 2.9699 - val_accuracy: 0.1132\n",
      "Epoch 16/70\n",
      "4/4 [==============================] - 1s 259ms/step - loss: 1.6131 - accuracy: 0.4524 - val_loss: 2.9998 - val_accuracy: 0.1887\n",
      "Epoch 17/70\n",
      "4/4 [==============================] - 1s 260ms/step - loss: 1.5425 - accuracy: 0.5397 - val_loss: 3.1054 - val_accuracy: 0.0755\n",
      "Epoch 18/70\n",
      "4/4 [==============================] - 1s 271ms/step - loss: 1.5812 - accuracy: 0.5234 - val_loss: 3.2235 - val_accuracy: 0.0755\n",
      "Epoch 19/70\n",
      "4/4 [==============================] - 1s 277ms/step - loss: 1.6262 - accuracy: 0.5000 - val_loss: 3.3020 - val_accuracy: 0.0755\n",
      "Epoch 20/70\n",
      "4/4 [==============================] - 1s 293ms/step - loss: 1.3816 - accuracy: 0.5556 - val_loss: 3.5124 - val_accuracy: 0.0755\n",
      "Epoch 21/70\n",
      "4/4 [==============================] - 1s 306ms/step - loss: 1.2845 - accuracy: 0.6429 - val_loss: 3.5391 - val_accuracy: 0.0755\n",
      "Epoch 22/70\n",
      "4/4 [==============================] - 1s 277ms/step - loss: 1.1764 - accuracy: 0.6349 - val_loss: 3.7288 - val_accuracy: 0.0755\n",
      "Epoch 23/70\n",
      "4/4 [==============================] - 1s 263ms/step - loss: 1.3844 - accuracy: 0.5476 - val_loss: 3.8447 - val_accuracy: 0.0755\n",
      "Epoch 24/70\n",
      "4/4 [==============================] - 1s 275ms/step - loss: 1.1520 - accuracy: 0.6508 - val_loss: 3.9091 - val_accuracy: 0.0755\n",
      "Epoch 25/70\n",
      "4/4 [==============================] - 1s 285ms/step - loss: 0.9977 - accuracy: 0.7063 - val_loss: 3.8843 - val_accuracy: 0.1509\n",
      "Epoch 26/70\n",
      "4/4 [==============================] - 1s 283ms/step - loss: 1.2491 - accuracy: 0.6172 - val_loss: 3.9189 - val_accuracy: 0.1509\n",
      "Epoch 27/70\n",
      "4/4 [==============================] - 1s 290ms/step - loss: 1.2080 - accuracy: 0.6032 - val_loss: 4.0676 - val_accuracy: 0.0755\n",
      "Epoch 28/70\n",
      "4/4 [==============================] - 1s 266ms/step - loss: 1.4084 - accuracy: 0.5952 - val_loss: 4.0685 - val_accuracy: 0.0755\n",
      "Epoch 29/70\n",
      "4/4 [==============================] - 1s 280ms/step - loss: 1.0712 - accuracy: 0.6746 - val_loss: 4.2178 - val_accuracy: 0.1321\n",
      "Epoch 30/70\n",
      "4/4 [==============================] - 1s 282ms/step - loss: 1.1888 - accuracy: 0.6429 - val_loss: 4.2052 - val_accuracy: 0.0755\n",
      "Epoch 31/70\n",
      "4/4 [==============================] - 1s 265ms/step - loss: 1.0596 - accuracy: 0.6746 - val_loss: 4.3117 - val_accuracy: 0.1698\n",
      "Epoch 32/70\n",
      "4/4 [==============================] - 1s 268ms/step - loss: 0.9483 - accuracy: 0.7143 - val_loss: 4.5673 - val_accuracy: 0.1509\n",
      "Epoch 33/70\n",
      "4/4 [==============================] - 1s 277ms/step - loss: 0.9615 - accuracy: 0.6905 - val_loss: 4.8578 - val_accuracy: 0.1321\n",
      "Epoch 34/70\n",
      "4/4 [==============================] - 1s 286ms/step - loss: 0.8623 - accuracy: 0.6746 - val_loss: 5.0850 - val_accuracy: 0.1321\n",
      "Epoch 35/70\n",
      "4/4 [==============================] - 1s 285ms/step - loss: 0.8934 - accuracy: 0.6825 - val_loss: 5.1343 - val_accuracy: 0.1698\n",
      "Epoch 36/70\n",
      "4/4 [==============================] - 1s 274ms/step - loss: 1.0037 - accuracy: 0.6825 - val_loss: 5.1642 - val_accuracy: 0.1509\n",
      "Epoch 37/70\n",
      "4/4 [==============================] - 1s 277ms/step - loss: 1.0381 - accuracy: 0.6825 - val_loss: 5.4951 - val_accuracy: 0.1321\n",
      "Epoch 38/70\n",
      "4/4 [==============================] - 1s 262ms/step - loss: 0.9766 - accuracy: 0.7188 - val_loss: 5.0353 - val_accuracy: 0.1321\n",
      "Epoch 39/70\n",
      "4/4 [==============================] - 1s 284ms/step - loss: 0.6975 - accuracy: 0.7857 - val_loss: 5.1931 - val_accuracy: 0.1321\n",
      "Epoch 40/70\n",
      "4/4 [==============================] - 1s 259ms/step - loss: 0.8882 - accuracy: 0.7302 - val_loss: 5.5608 - val_accuracy: 0.1321\n",
      "Epoch 41/70\n",
      "4/4 [==============================] - 1s 280ms/step - loss: 0.8917 - accuracy: 0.7143 - val_loss: 5.7282 - val_accuracy: 0.1132\n",
      "Epoch 42/70\n",
      "4/4 [==============================] - 1s 279ms/step - loss: 0.7183 - accuracy: 0.7381 - val_loss: 5.5322 - val_accuracy: 0.1509\n",
      "Epoch 43/70\n",
      "4/4 [==============================] - 1s 259ms/step - loss: 0.9778 - accuracy: 0.6746 - val_loss: 5.5992 - val_accuracy: 0.1509\n",
      "Epoch 44/70\n",
      "4/4 [==============================] - 1s 279ms/step - loss: 0.8306 - accuracy: 0.7109 - val_loss: 5.6311 - val_accuracy: 0.1887\n",
      "Epoch 45/70\n",
      "4/4 [==============================] - 1s 263ms/step - loss: 0.7079 - accuracy: 0.7619 - val_loss: 5.5121 - val_accuracy: 0.1698\n",
      "Epoch 46/70\n",
      "4/4 [==============================] - 1s 257ms/step - loss: 0.7239 - accuracy: 0.8125 - val_loss: 5.5963 - val_accuracy: 0.1698\n",
      "Epoch 47/70\n",
      "4/4 [==============================] - 1s 257ms/step - loss: 0.8053 - accuracy: 0.7540 - val_loss: 5.5957 - val_accuracy: 0.1509\n",
      "Epoch 48/70\n",
      "4/4 [==============================] - 1s 260ms/step - loss: 0.7114 - accuracy: 0.7778 - val_loss: 5.8220 - val_accuracy: 0.1698\n",
      "Epoch 49/70\n",
      "4/4 [==============================] - 1s 287ms/step - loss: 0.6941 - accuracy: 0.7460 - val_loss: 5.8615 - val_accuracy: 0.1509\n",
      "Epoch 50/70\n",
      "4/4 [==============================] - 1s 281ms/step - loss: 0.6759 - accuracy: 0.7540 - val_loss: 5.4669 - val_accuracy: 0.1509\n",
      "Epoch 51/70\n",
      "4/4 [==============================] - 1s 300ms/step - loss: 0.7307 - accuracy: 0.7381 - val_loss: 5.4520 - val_accuracy: 0.1509\n",
      "Epoch 52/70\n",
      "4/4 [==============================] - 1s 266ms/step - loss: 0.5676 - accuracy: 0.7778 - val_loss: 5.4840 - val_accuracy: 0.1321\n",
      "Epoch 53/70\n",
      "4/4 [==============================] - 1s 281ms/step - loss: 0.5753 - accuracy: 0.7937 - val_loss: 5.6592 - val_accuracy: 0.1887\n",
      "Epoch 54/70\n",
      "4/4 [==============================] - 1s 266ms/step - loss: 0.5444 - accuracy: 0.8516 - val_loss: 5.7738 - val_accuracy: 0.0755\n",
      "Epoch 55/70\n",
      "4/4 [==============================] - 1s 264ms/step - loss: 0.6223 - accuracy: 0.7857 - val_loss: 5.4880 - val_accuracy: 0.1698\n",
      "Epoch 56/70\n",
      "4/4 [==============================] - 1s 260ms/step - loss: 0.7942 - accuracy: 0.7143 - val_loss: 5.1559 - val_accuracy: 0.1698\n",
      "Epoch 57/70\n",
      "4/4 [==============================] - 1s 261ms/step - loss: 0.5865 - accuracy: 0.7619 - val_loss: 5.1193 - val_accuracy: 0.1887\n",
      "Epoch 58/70\n",
      "4/4 [==============================] - 1s 263ms/step - loss: 0.6918 - accuracy: 0.7222 - val_loss: 5.8241 - val_accuracy: 0.0755\n",
      "Epoch 59/70\n"
     ]
    },
    {
     "name": "stdout",
     "output_type": "stream",
     "text": [
      "4/4 [==============================] - 1s 270ms/step - loss: 0.6937 - accuracy: 0.7500 - val_loss: 5.9117 - val_accuracy: 0.0755\n",
      "Epoch 60/70\n",
      "4/4 [==============================] - 1s 264ms/step - loss: 0.8511 - accuracy: 0.7344 - val_loss: 6.4476 - val_accuracy: 0.0755\n",
      "Epoch 61/70\n",
      "4/4 [==============================] - 1s 259ms/step - loss: 0.7486 - accuracy: 0.7698 - val_loss: 6.2530 - val_accuracy: 0.0755\n",
      "Epoch 62/70\n",
      "4/4 [==============================] - 1s 262ms/step - loss: 0.5524 - accuracy: 0.8047 - val_loss: 6.3684 - val_accuracy: 0.0755\n",
      "Epoch 63/70\n",
      "4/4 [==============================] - 1s 255ms/step - loss: 0.5426 - accuracy: 0.7857 - val_loss: 5.2771 - val_accuracy: 0.1698\n",
      "Epoch 64/70\n",
      "4/4 [==============================] - 1s 262ms/step - loss: 0.3743 - accuracy: 0.8810 - val_loss: 4.7086 - val_accuracy: 0.1887\n",
      "Epoch 65/70\n",
      "4/4 [==============================] - 1s 267ms/step - loss: 0.6247 - accuracy: 0.7812 - val_loss: 4.9967 - val_accuracy: 0.1698\n",
      "Epoch 66/70\n",
      "4/4 [==============================] - 1s 259ms/step - loss: 0.4325 - accuracy: 0.8492 - val_loss: 5.3233 - val_accuracy: 0.1887\n",
      "Epoch 67/70\n",
      "4/4 [==============================] - 1s 265ms/step - loss: 0.5314 - accuracy: 0.7937 - val_loss: 5.3402 - val_accuracy: 0.0943\n",
      "Epoch 68/70\n",
      "4/4 [==============================] - 1s 263ms/step - loss: 0.5969 - accuracy: 0.8047 - val_loss: 5.1320 - val_accuracy: 0.1698\n",
      "Epoch 69/70\n",
      "4/4 [==============================] - 1s 290ms/step - loss: 0.5826 - accuracy: 0.7698 - val_loss: 5.6957 - val_accuracy: 0.0755\n",
      "Epoch 70/70\n",
      "4/4 [==============================] - 1s 260ms/step - loss: 0.4787 - accuracy: 0.8254 - val_loss: 4.0667 - val_accuracy: 0.2453\n"
     ]
    }
   ],
   "source": [
    "INIT_LR = 0.01\n",
    "EPOCHS = 70\n",
    "BS = 32\n",
    "# initialize the model and optimizer (you'll want to use\n",
    "# binary_crossentropy for 2-class classification)\n",
    "print(\"[INFO] training network...\")\n",
    "opt = SGD(lr=INIT_LR, decay=INIT_LR / EPOCHS)\n",
    "model.compile(loss=\"categorical_crossentropy\", optimizer=opt, metrics=[\"accuracy\"])\n",
    "# train the network\n",
    "H = model.fit(x=aug.flow(trainX, trainY, batch_size=BS), validation_data=(testX, testY), steps_per_epoch=len(trainX) // BS, epochs=EPOCHS)"
   ]
  },
  {
   "cell_type": "code",
   "execution_count": 20,
   "id": "interracial-alberta",
   "metadata": {},
   "outputs": [
    {
     "data": {
      "text/plain": [
       "<matplotlib.legend.Legend at 0x23fff9e8>"
      ]
     },
     "execution_count": 20,
     "metadata": {},
     "output_type": "execute_result"
    },
    {
     "data": {
      "image/png": "[encoded data removed]",
      "text/plain": [
       "<Figure size 432x288 with 1 Axes>"
      ]
     },
     "metadata": {},
     "output_type": "display_data"
    }
   ],
   "source": [
    "N = np.arange(0, EPOCHS)\n",
    "plt.style.use(\"ggplot\")\n",
    "plt.figure()\n",
    "plt.plot(N, H.history[\"loss\"], label=\"train_loss\")\n",
    "plt.plot(N, H.history[\"val_loss\"], label=\"val_loss\")\n",
    "plt.plot(N, H.history[\"accuracy\"], label=\"train_acc\")\n",
    "plt.plot(N, H.history[\"val_accuracy\"], label=\"val_acc\")\n",
    "plt.title(\"Training Loss and Accuracy (SmallVGGNet)\")\n",
    "plt.xlabel(\"Epoch #\")\n",
    "plt.ylabel(\"Loss/Accuracy\")\n",
    "plt.legend()"
   ]
  },
  {
   "cell_type": "code",
   "execution_count": 22,
   "id": "round-correspondence",
   "metadata": {},
   "outputs": [
    {
     "name": "stdout",
     "output_type": "stream",
     "text": [
      "1\n",
      "[[1.8231988e-04 9.9537778e-01 3.3199529e-03 2.2926338e-06 2.6857864e-05\n",
      "  2.5653517e-06 7.7727447e-05 8.8733752e-05 9.1777579e-04 3.9840020e-06]]\n"
     ]
    }
   ],
   "source": [
    "import cv2\n",
    "import numpy as np\n",
    "import tensorflow as tf\n",
    "\n",
    "def prepare(filepath):\n",
    "    img_array = cv2.imread(filepath)\n",
    "    img_array = cv2.resize(img_array, (IMG_SIZE, IMG_SIZE))\n",
    "    img_array = np.array(img_array, dtype=\"float\") / 255.0\n",
    "    img_array = img_array.reshape(-1, IMG_SIZE, IMG_SIZE, 3)\n",
    "    return img_array\n",
    "\n",
    "path=r'dataset\\4\\img.1.jpg'\n",
    "prediction = model.predict(prepare(path))\n",
    "\n",
    "maximum = 0\n",
    "index = 0\n",
    "for i in range(len(CATEGORIES)):\n",
    "    if (prediction[0][i]) > maximum:\n",
    "        index = i\n",
    "        maximum = prediction[0][i]\n",
    "print(CATEGORIES[index])\n",
    "\n",
    "print(prediction)"
   ]
  },
  {
   "cell_type": "code",
   "execution_count": 24,
   "id": "german-baker",
   "metadata": {},
   "outputs": [
    {
     "name": "stdout",
     "output_type": "stream",
     "text": [
      "INFO:tensorflow:Assets written to: p-mnist.model\\assets\n"
     ]
    }
   ],
   "source": [
    "model.save(\"p-mnist.model\")"
   ]
  },
  {
   "cell_type": "code",
   "execution_count": null,
   "id": "young-colombia",
   "metadata": {},
   "outputs": [],
   "source": []
  }
 ],
 "metadata": {
  "kernelspec": {
   "display_name": "Python 3",
   "language": "python",
   "name": "python3"
  },
  "language_info": {
   "codemirror_mode": {
    "name": "ipython",
    "version": 3
   },
   "file_extension": ".py",
   "mimetype": "text/x-python",
   "name": "python",
   "nbconvert_exporter": "python",
   "pygments_lexer": "ipython3",
   "version": "3.7.0"
  }
 },
 "nbformat": 4,
 "nbformat_minor": 5
}
